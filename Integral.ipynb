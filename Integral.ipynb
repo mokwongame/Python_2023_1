{
 "cells": [
  {
   "cell_type": "code",
   "execution_count": 1,
   "id": "dd420825",
   "metadata": {},
   "outputs": [],
   "source": [
    "import matplotlib.pyplot as plt\n",
    "import numpy as np\n",
    "from math import *"
   ]
  },
  {
   "cell_type": "code",
   "execution_count": 11,
   "id": "f3d845b6",
   "metadata": {},
   "outputs": [
    {
     "name": "stdout",
     "output_type": "stream",
     "text": [
      "6.389052904403328\n"
     ]
    }
   ],
   "source": [
    "dx = 0.000001\n",
    "x = list(np.arange(0., 2., dx))\n",
    "sum = 0\n",
    "for xv in x:\n",
    "    sum += exp(xv)*dx\n",
    "print(sum)"
   ]
  },
  {
   "cell_type": "code",
   "execution_count": 6,
   "id": "cd0d1351",
   "metadata": {},
   "outputs": [
    {
     "data": {
      "text/plain": [
       "-0.5440211108893698"
      ]
     },
     "execution_count": 6,
     "metadata": {},
     "output_type": "execute_result"
    }
   ],
   "source": [
    "sin(10) - sin(0)"
   ]
  },
  {
   "cell_type": "code",
   "execution_count": 12,
   "id": "a079a9c7",
   "metadata": {},
   "outputs": [
    {
     "data": {
      "text/plain": [
       "6.38905609893065"
      ]
     },
     "execution_count": 12,
     "metadata": {},
     "output_type": "execute_result"
    }
   ],
   "source": [
    "exp(2) - exp(0)"
   ]
  },
  {
   "cell_type": "code",
   "execution_count": 13,
   "id": "e56296e1",
   "metadata": {},
   "outputs": [],
   "source": [
    "def harmSum(xmax):\n",
    "    x = list(range(1, xmax+1)) # 1에서 xmax까지 range 생성(간격은 1)\n",
    "    sum = 0\n",
    "    for xv in x:\n",
    "        sum += 1/xv\n",
    "    return sum"
   ]
  },
  {
   "cell_type": "code",
   "execution_count": 14,
   "id": "9a8c841d",
   "metadata": {},
   "outputs": [],
   "source": [
    "def intLog(xmax):\n",
    "    dx = 0.0001\n",
    "    x = list(np.arange(1., xmax, dx))\n",
    "    sum = 0\n",
    "    for xv in x:\n",
    "        sum += 1/xv\n",
    "    return sum*dx"
   ]
  },
  {
   "cell_type": "code",
   "execution_count": 19,
   "id": "f48e773a",
   "metadata": {},
   "outputs": [
    {
     "name": "stdout",
     "output_type": "stream",
     "text": [
      "0.5788315714758969\n"
     ]
    }
   ],
   "source": [
    "xmax = 300\n",
    "diff = harmSum(xmax) - intLog(xmax) # 오일러-마스케로니 상수에 근접\n",
    "print(diff)"
   ]
  },
  {
   "cell_type": "code",
   "execution_count": 21,
   "id": "f3961b16",
   "metadata": {},
   "outputs": [
    {
     "name": "stdout",
     "output_type": "stream",
     "text": [
      "[1, 2, 3, 4, 5, 6, 7, 8, 9, 10, 11, 12, 13, 14, 15, 16, 17, 18, 19, 20, 21, 22, 23, 24, 25, 26, 27, 28, 29, 30, 31, 32, 33, 34, 35, 36, 37, 38, 39, 40, 41, 42, 43, 44, 45, 46, 47, 48, 49, 50, 51, 52, 53, 54, 55, 56, 57, 58, 59, 60, 61, 62, 63, 64, 65, 66, 67, 68, 69, 70, 71, 72, 73, 74, 75, 76, 77, 78, 79, 80, 81, 82, 83, 84, 85, 86, 87, 88, 89, 90, 91, 92, 93, 94, 95, 96, 97, 98, 99, 100, 101, 102, 103, 104, 105, 106, 107, 108, 109, 110, 111, 112, 113, 114, 115, 116, 117, 118, 119, 120, 121, 122, 123, 124, 125, 126, 127, 128, 129, 130, 131, 132, 133, 134, 135, 136, 137, 138, 139, 140, 141, 142, 143, 144, 145, 146, 147, 148, 149, 150, 151, 152, 153, 154, 155, 156, 157, 158, 159, 160, 161, 162, 163, 164, 165, 166, 167, 168, 169, 170, 171, 172, 173, 174, 175, 176, 177, 178, 179, 180, 181, 182, 183, 184, 185, 186, 187, 188, 189, 190, 191, 192, 193, 194, 195, 196, 197, 198, 199, 200]\n"
     ]
    }
   ],
   "source": [
    "xmax = 200\n",
    "x = list(range(1, xmax+1))\n",
    "print(x)"
   ]
  },
  {
   "cell_type": "code",
   "execution_count": null,
   "id": "d1608520",
   "metadata": {},
   "outputs": [],
   "source": []
  }
 ],
 "metadata": {
  "kernelspec": {
   "display_name": "Python 3 (ipykernel)",
   "language": "python",
   "name": "python3"
  },
  "language_info": {
   "codemirror_mode": {
    "name": "ipython",
    "version": 3
   },
   "file_extension": ".py",
   "mimetype": "text/x-python",
   "name": "python",
   "nbconvert_exporter": "python",
   "pygments_lexer": "ipython3",
   "version": "3.11.1"
  }
 },
 "nbformat": 4,
 "nbformat_minor": 5
}

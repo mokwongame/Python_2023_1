{
 "cells": [
  {
   "cell_type": "code",
   "execution_count": 1,
   "id": "687cb9cb",
   "metadata": {},
   "outputs": [],
   "source": [
    "import matplotlib.pyplot as plt\n",
    "import numpy as np\n",
    "from math import *"
   ]
  },
  {
   "cell_type": "code",
   "execution_count": 3,
   "id": "5791f221",
   "metadata": {},
   "outputs": [
    {
     "name": "stdout",
     "output_type": "stream",
     "text": [
      "[1, 2, 3, 4, 5, 6, 7, 8, 9, 10, 11, 12, 13, 14, 15, 16, 17, 18, 19, 20, 21, 22, 23, 24, 25, 26, 27, 28, 29, 30, 31, 32, 33, 34, 35, 36, 37, 38, 39, 40, 41, 42, 43, 44, 45, 46, 47, 48, 49, 50, 51, 52, 53, 54, 55, 56, 57, 58, 59, 60, 61, 62, 63, 64, 65, 66, 67, 68, 69, 70, 71, 72, 73, 74, 75, 76, 77, 78, 79, 80, 81, 82, 83, 84, 85, 86, 87, 88, 89, 90, 91, 92, 93, 94, 95, 96, 97, 98, 99]\n"
     ]
    }
   ],
   "source": [
    "x = list(range(1, 100)) # 1에서 100-1까지 range 생성(간격은 1)\n",
    "print(x)"
   ]
  },
  {
   "cell_type": "code",
   "execution_count": 7,
   "id": "579b81f4",
   "metadata": {},
   "outputs": [
    {
     "name": "stdout",
     "output_type": "stream",
     "text": [
      "12.090136129863335\n"
     ]
    }
   ],
   "source": [
    "x = list(range(1, 100000)) # 1에서 100-1까지 range 생성(간격은 1)\n",
    "sum = 0\n",
    "for xv in x:\n",
    "    sum += 1/xv\n",
    "print(sum)"
   ]
  },
  {
   "cell_type": "code",
   "execution_count": 8,
   "id": "3804b01d",
   "metadata": {},
   "outputs": [
    {
     "data": {
      "text/plain": [
       "0.5772156649015329"
      ]
     },
     "execution_count": 8,
     "metadata": {},
     "output_type": "execute_result"
    }
   ],
   "source": [
    "np.euler_gamma"
   ]
  },
  {
   "cell_type": "code",
   "execution_count": 9,
   "id": "2e886151",
   "metadata": {},
   "outputs": [
    {
     "data": {
      "text/plain": [
       "12.090141129871762"
      ]
     },
     "execution_count": 9,
     "metadata": {},
     "output_type": "execute_result"
    }
   ],
   "source": [
    "log(100000)+np.euler_gamma"
   ]
  },
  {
   "cell_type": "code",
   "execution_count": 13,
   "id": "eeab9f2f",
   "metadata": {},
   "outputs": [],
   "source": [
    "def harmSum(xmax):\n",
    "    x = list(range(1, xmax+1)) # 1에서 xmax까지 range 생성(간격은 1)\n",
    "    sum = 0\n",
    "    for xv in x:\n",
    "        sum += 1/xv\n",
    "    return sum"
   ]
  },
  {
   "cell_type": "code",
   "execution_count": 14,
   "id": "4ec5c908",
   "metadata": {},
   "outputs": [
    {
     "name": "stdout",
     "output_type": "stream",
     "text": [
      "12.090146129863335\n"
     ]
    }
   ],
   "source": [
    "print(harmSum(100000))"
   ]
  },
  {
   "cell_type": "code",
   "execution_count": null,
   "id": "8008deb5",
   "metadata": {},
   "outputs": [],
   "source": []
  }
 ],
 "metadata": {
  "kernelspec": {
   "display_name": "Python 3 (ipykernel)",
   "language": "python",
   "name": "python3"
  },
  "language_info": {
   "codemirror_mode": {
    "name": "ipython",
    "version": 3
   },
   "file_extension": ".py",
   "mimetype": "text/x-python",
   "name": "python",
   "nbconvert_exporter": "python",
   "pygments_lexer": "ipython3",
   "version": "3.11.1"
  }
 },
 "nbformat": 4,
 "nbformat_minor": 5
}

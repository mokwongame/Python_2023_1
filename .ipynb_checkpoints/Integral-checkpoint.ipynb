{
 "cells": [
  {
   "cell_type": "code",
   "execution_count": 1,
   "id": "4b7e105b",
   "metadata": {},
   "outputs": [],
   "source": [
    "import matplotlib.pyplot as plt\n",
    "import numpy as np\n",
    "from math import *"
   ]
  },
  {
   "cell_type": "code",
   "execution_count": 11,
   "id": "ff0c23b3",
   "metadata": {},
   "outputs": [
    {
     "name": "stdout",
     "output_type": "stream",
     "text": [
      "6.389052904403328\n"
     ]
    }
   ],
   "source": [
    "dx = 0.000001\n",
    "x = list(np.arange(0., 2., dx))\n",
    "sum = 0\n",
    "for xv in x:\n",
    "    sum += exp(xv)*dx\n",
    "print(sum)"
   ]
  },
  {
   "cell_type": "code",
   "execution_count": 6,
   "id": "3cef48ba",
   "metadata": {},
   "outputs": [
    {
     "data": {
      "text/plain": [
       "-0.5440211108893698"
      ]
     },
     "execution_count": 6,
     "metadata": {},
     "output_type": "execute_result"
    }
   ],
   "source": [
    "sin(10) - sin(0)"
   ]
  },
  {
   "cell_type": "code",
   "execution_count": 12,
   "id": "4d0acb15",
   "metadata": {},
   "outputs": [
    {
     "data": {
      "text/plain": [
       "6.38905609893065"
      ]
     },
     "execution_count": 12,
     "metadata": {},
     "output_type": "execute_result"
    }
   ],
   "source": [
    "exp(2) - exp(0)"
   ]
  },
  {
   "cell_type": "code",
   "execution_count": 13,
   "id": "b36db911",
   "metadata": {},
   "outputs": [],
   "source": [
    "def harmSum(xmax):\n",
    "    x = list(range(1, xmax+1)) # 1에서 xmax까지 range 생성(간격은 1)\n",
    "    sum = 0\n",
    "    for xv in x:\n",
    "        sum += 1/xv\n",
    "    return sum"
   ]
  },
  {
   "cell_type": "code",
   "execution_count": 14,
   "id": "f999be5d",
   "metadata": {},
   "outputs": [],
   "source": [
    "def intLog(xmax):\n",
    "    dx = 0.0001\n",
    "    x = list(np.arange(1., xmax, dx))\n",
    "    sum = 0\n",
    "    for xv in x:\n",
    "        sum += 1/xv\n",
    "    return sum*dx"
   ]
  },
  {
   "cell_type": "code",
   "execution_count": 19,
   "id": "1bed429c",
   "metadata": {},
   "outputs": [
    {
     "name": "stdout",
     "output_type": "stream",
     "text": [
      "0.5788315714758969\n"
     ]
    }
   ],
   "source": [
    "xmax = 300\n",
    "diff = harmSum(xmax) - intLog(xmax) # 오일러-마스케로니 상수에 근접\n",
    "print(diff)"
   ]
  },
  {
   "cell_type": "code",
   "execution_count": null,
   "id": "1d477929",
   "metadata": {},
   "outputs": [],
   "source": []
  }
 ],
 "metadata": {
  "kernelspec": {
   "display_name": "Python 3 (ipykernel)",
   "language": "python",
   "name": "python3"
  },
  "language_info": {
   "codemirror_mode": {
    "name": "ipython",
    "version": 3
   },
   "file_extension": ".py",
   "mimetype": "text/x-python",
   "name": "python",
   "nbconvert_exporter": "python",
   "pygments_lexer": "ipython3",
   "version": "3.11.1"
  }
 },
 "nbformat": 4,
 "nbformat_minor": 5
}

{
 "cells": [
  {
   "cell_type": "code",
   "execution_count": 2,
   "id": "491c80fe",
   "metadata": {},
   "outputs": [],
   "source": [
    "import matplotlib.pyplot as plt # as: 가명, 별명 붙이기\n",
    "import numpy as np # Python에 배열 자료 구조 추가\n",
    "#import math # 수학 함수: math.으로 멤버 접근\n",
    "from math import * # 모든 수학 함수, 변수를 math. 없이"
   ]
  },
  {
   "cell_type": "code",
   "execution_count": null,
   "id": "31f6bb1b",
   "metadata": {},
   "outputs": [],
   "source": []
  }
 ],
 "metadata": {
  "kernelspec": {
   "display_name": "Python 3 (ipykernel)",
   "language": "python",
   "name": "python3"
  },
  "language_info": {
   "codemirror_mode": {
    "name": "ipython",
    "version": 3
   },
   "file_extension": ".py",
   "mimetype": "text/x-python",
   "name": "python",
   "nbconvert_exporter": "python",
   "pygments_lexer": "ipython3",
   "version": "3.11.1"
  }
 },
 "nbformat": 4,
 "nbformat_minor": 5
}

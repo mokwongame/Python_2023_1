{
 "cells": [
  {
   "cell_type": "code",
   "execution_count": 1,
   "id": "ef8ec5ac",
   "metadata": {},
   "outputs": [],
   "source": [
    "import matplotlib.pyplot as plt\n",
    "import numpy as np\n",
    "from math import *"
   ]
  },
  {
   "cell_type": "code",
   "execution_count": 2,
   "id": "089a4ebc",
   "metadata": {},
   "outputs": [],
   "source": [
    "a = 50 # 학번뒤 두자리 숫자\n",
    "def myFun(x):\n",
    "    return a*exp(x) + x*x - sin(x)"
   ]
  },
  {
   "cell_type": "code",
   "execution_count": 3,
   "id": "9aa3604f",
   "metadata": {},
   "outputs": [
    {
     "name": "stdout",
     "output_type": "stream",
     "text": [
      "7446.616879403493\n"
     ]
    }
   ],
   "source": [
    "y = myFun(5)\n",
    "print(y)"
   ]
  },
  {
   "cell_type": "code",
   "execution_count": 5,
   "id": "aaafc0e7",
   "metadata": {},
   "outputs": [],
   "source": [
    "h = 1e-5\n",
    "def diffFun(x):\n",
    "    return (myFun(x+h)-myFun(x))/h"
   ]
  },
  {
   "cell_type": "code",
   "execution_count": 4,
   "id": "8fe5f817",
   "metadata": {},
   "outputs": [],
   "source": [
    "x = list(np.arange(-10., 10., 0.001))\n",
    "yp = [] #y의 수치 미분\n",
    "wp = [] #y의 정확한 미분\n",
    "\n",
    "for xv in x:\n",
    "    yp.append(diffFun(xv))\n",
    "    wp.append(a*exp(xv)+2*xv-cos(xv))"
   ]
  },
  {
   "cell_type": "code",
   "execution_count": null,
   "id": "605b7d6e",
   "metadata": {},
   "outputs": [],
   "source": []
  }
 ],
 "metadata": {
  "kernelspec": {
   "display_name": "Python 3 (ipykernel)",
   "language": "python",
   "name": "python3"
  },
  "language_info": {
   "codemirror_mode": {
    "name": "ipython",
    "version": 3
   },
   "file_extension": ".py",
   "mimetype": "text/x-python",
   "name": "python",
   "nbconvert_exporter": "python",
   "pygments_lexer": "ipython3",
   "version": "3.11.1"
  }
 },
 "nbformat": 4,
 "nbformat_minor": 5
}

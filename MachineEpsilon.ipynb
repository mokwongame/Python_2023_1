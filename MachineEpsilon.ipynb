{
 "cells": [
  {
   "cell_type": "code",
   "execution_count": 2,
   "id": "0eca51a4",
   "metadata": {},
   "outputs": [
    {
     "name": "stdout",
     "output_type": "stream",
     "text": [
      "1.1\n"
     ]
    }
   ],
   "source": [
    "a = 1+0.1\n",
    "print(a)"
   ]
  },
  {
   "cell_type": "code",
   "execution_count": 3,
   "id": "37c22ddc",
   "metadata": {},
   "outputs": [
    {
     "name": "stdout",
     "output_type": "stream",
     "text": [
      "0.0\n"
     ]
    }
   ],
   "source": [
    "b = a - 1.1\n",
    "print(b)"
   ]
  },
  {
   "cell_type": "code",
   "execution_count": 4,
   "id": "39eccef4",
   "metadata": {},
   "outputs": [],
   "source": [
    "a = a + 0.1"
   ]
  },
  {
   "cell_type": "code",
   "execution_count": 5,
   "id": "e0970748",
   "metadata": {},
   "outputs": [
    {
     "name": "stdout",
     "output_type": "stream",
     "text": [
      "1.2000000000000002\n"
     ]
    }
   ],
   "source": [
    "print(a)"
   ]
  },
  {
   "cell_type": "code",
   "execution_count": 6,
   "id": "504bbb45",
   "metadata": {},
   "outputs": [
    {
     "name": "stdout",
     "output_type": "stream",
     "text": [
      "2.220446049250313e-16\n"
     ]
    }
   ],
   "source": [
    "b = a-1.2\n",
    "print(b)"
   ]
  },
  {
   "cell_type": "code",
   "execution_count": 7,
   "id": "e9576c68",
   "metadata": {},
   "outputs": [
    {
     "name": "stdout",
     "output_type": "stream",
     "text": [
      "eps =  0.25\n",
      "eps =  0.125\n",
      "eps =  0.0625\n",
      "eps =  0.03125\n",
      "eps =  0.015625\n",
      "eps =  0.0078125\n",
      "eps =  0.00390625\n",
      "eps =  0.001953125\n",
      "eps =  0.0009765625\n",
      "eps =  0.00048828125\n",
      "eps =  0.000244140625\n",
      "eps =  0.0001220703125\n",
      "eps =  6.103515625e-05\n",
      "eps =  3.0517578125e-05\n",
      "eps =  1.52587890625e-05\n",
      "eps =  7.62939453125e-06\n",
      "eps =  3.814697265625e-06\n",
      "eps =  1.9073486328125e-06\n",
      "eps =  9.5367431640625e-07\n",
      "eps =  4.76837158203125e-07\n",
      "eps =  2.384185791015625e-07\n",
      "eps =  1.1920928955078125e-07\n",
      "eps =  5.960464477539063e-08\n",
      "eps =  2.9802322387695312e-08\n",
      "eps =  1.4901161193847656e-08\n",
      "eps =  7.450580596923828e-09\n",
      "eps =  3.725290298461914e-09\n",
      "eps =  1.862645149230957e-09\n",
      "eps =  9.313225746154785e-10\n",
      "eps =  4.656612873077393e-10\n",
      "eps =  2.3283064365386963e-10\n",
      "eps =  1.1641532182693481e-10\n",
      "eps =  5.820766091346741e-11\n",
      "eps =  2.9103830456733704e-11\n",
      "eps =  1.4551915228366852e-11\n",
      "eps =  7.275957614183426e-12\n",
      "eps =  3.637978807091713e-12\n",
      "eps =  1.8189894035458565e-12\n",
      "eps =  9.094947017729282e-13\n",
      "eps =  4.547473508864641e-13\n",
      "eps =  2.2737367544323206e-13\n",
      "eps =  1.1368683772161603e-13\n",
      "eps =  5.684341886080802e-14\n",
      "eps =  2.842170943040401e-14\n",
      "eps =  1.4210854715202004e-14\n",
      "eps =  7.105427357601002e-15\n",
      "eps =  3.552713678800501e-15\n",
      "eps =  1.7763568394002505e-15\n",
      "eps =  8.881784197001252e-16\n",
      "eps =  4.440892098500626e-16\n",
      "eps =  2.220446049250313e-16\n",
      "eps =  1.1102230246251565e-16\n"
     ]
    }
   ],
   "source": [
    "eps = 0.5\n",
    "while 1 + eps != 1:\n",
    "    eps = eps/2.;\n",
    "    print(\"eps = \", eps)"
   ]
  },
  {
   "cell_type": "code",
   "execution_count": 8,
   "id": "c07176cb",
   "metadata": {},
   "outputs": [
    {
     "name": "stdout",
     "output_type": "stream",
     "text": [
      "2.220446049250313e-16\n"
     ]
    }
   ],
   "source": [
    "print(1/(2**52))"
   ]
  },
  {
   "cell_type": "code",
   "execution_count": 9,
   "id": "cdb64e8c",
   "metadata": {},
   "outputs": [],
   "source": [
    "import matplotlib.pyplot as plt\n",
    "import numpy as np\n",
    "from math import *"
   ]
  },
  {
   "cell_type": "code",
   "execution_count": 10,
   "id": "5038456b",
   "metadata": {},
   "outputs": [],
   "source": [
    "a = 50 # 학번뒤 두자리 숫자\n",
    "def myFun(x):\n",
    "    return a*exp(x) + x*x - sin(x)"
   ]
  },
  {
   "cell_type": "code",
   "execution_count": 13,
   "id": "58052184",
   "metadata": {},
   "outputs": [],
   "source": [
    "def diffFun(x, h):\n",
    "    return (myFun(x+h)-myFun(x))/h"
   ]
  },
  {
   "cell_type": "code",
   "execution_count": 12,
   "id": "2222a498",
   "metadata": {},
   "outputs": [],
   "source": [
    "def myFunDiff(x): # myFun의 미분\n",
    "    return a*exp(x) + 2*x - cos(x)"
   ]
  },
  {
   "cell_type": "code",
   "execution_count": 21,
   "id": "ed3afae2",
   "metadata": {},
   "outputs": [
    {
     "name": "stdout",
     "output_type": "stream",
     "text": [
      "0.0004057991591253085\n"
     ]
    }
   ],
   "source": [
    "h = 1e-7\n",
    "x = 5\n",
    "er = abs(diffFun(x, h) - myFunDiff(x)) # |미분 근사 - 미분 참값|\n",
    "print(er)"
   ]
  },
  {
   "cell_type": "code",
   "execution_count": 22,
   "id": "292c1a9d",
   "metadata": {},
   "outputs": [
    {
     "name": "stdout",
     "output_type": "stream",
     "text": [
      "2.9802322387695312e-08\n"
     ]
    }
   ],
   "source": [
    "eps = 1/(2**52)\n",
    "print(2*sqrt(eps))"
   ]
  },
  {
   "cell_type": "code",
   "execution_count": null,
   "id": "004825af",
   "metadata": {},
   "outputs": [],
   "source": []
  }
 ],
 "metadata": {
  "kernelspec": {
   "display_name": "Python 3 (ipykernel)",
   "language": "python",
   "name": "python3"
  },
  "language_info": {
   "codemirror_mode": {
    "name": "ipython",
    "version": 3
   },
   "file_extension": ".py",
   "mimetype": "text/x-python",
   "name": "python",
   "nbconvert_exporter": "python",
   "pygments_lexer": "ipython3",
   "version": "3.11.1"
  }
 },
 "nbformat": 4,
 "nbformat_minor": 5
}
